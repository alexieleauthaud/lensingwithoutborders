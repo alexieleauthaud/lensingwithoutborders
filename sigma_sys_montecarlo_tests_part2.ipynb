{
 "cells": [
  {
   "cell_type": "markdown",
   "metadata": {},
   "source": [
    "# Monte Carlo Tests Part 2"
   ]
  },
  {
   "cell_type": "markdown",
   "metadata": {},
   "source": [
    "## with surveys with different valies of sigma_estimated, what does the global value we derived correspond to?"
   ]
  },
  {
   "cell_type": "code",
   "execution_count": 1,
   "metadata": {},
   "outputs": [],
   "source": [
    "import matplotlib.pyplot as plt\n",
    "from   matplotlib.pyplot import *\n",
    "import sys\n",
    "import pylab as pl\n",
    "import numpy as np\n",
    "from   copy import copy\n",
    "import pandas\n",
    "from astropy.io import fits\n",
    "from astropy.table import Table, Column\n",
    "import os.path                                                                                                                                                                       \n",
    "from numpy import genfromtxt\n",
    "from math import *\n",
    "from astropy.coordinates import SkyCoord\n",
    "import pandas as pd  \n",
    "import scipy.stats\n",
    "from scipy import stats\n",
    "\n",
    "from scipy import optimize\n",
    "\n",
    "import seaborn as sns\n",
    "\n",
    "plt.rc('text', usetex=True)\n",
    "plt.rc('font', family='serif')"
   ]
  },
  {
   "cell_type": "code",
   "execution_count": 2,
   "metadata": {},
   "outputs": [
    {
     "name": "stdout",
     "output_type": "stream",
     "text": [
      "0.051666666666666666\n",
      "0.05000000000000001\n",
      "0.05000000000000001\n"
     ]
    }
   ],
   "source": [
    "# L1\n",
    "des_syserr=np.array([0.03,0.02,0.02])\n",
    "cfht_syserr=np.array([0.08,0.08,0.08])\n",
    "hsc_syserr=np.array([0.05,0.05,0.05])\n",
    "cs82_syserr=np.array([0.06,0.06,0.06])\n",
    "kids_syserr=np.array([0.03,0.03,0.03])\n",
    "sdss_syserr=np.array([0.06,0.06,0.06])\n",
    "\n",
    "for i in range(0,3):\n",
    "    m=des_syserr[i]+cfht_syserr[i]+hsc_syserr[i]+cs82_syserr[i]+kids_syserr[i]+sdss_syserr[i]\n",
    "    m=m/6.0\n",
    "    print(m)"
   ]
  },
  {
   "cell_type": "code",
   "execution_count": 3,
   "metadata": {},
   "outputs": [
    {
     "name": "stdout",
     "output_type": "stream",
     "text": [
      "0.051666666666666666\n",
      "0.05000000000000001\n",
      "0.05000000000000001\n"
     ]
    }
   ],
   "source": [
    "# L2\n",
    "des_syserr=np.array([0.03,0.02,0.02])\n",
    "cfht_syserr=np.array([0.08,0.08,0.08])\n",
    "hsc_syserr=np.array([0.05,0.05,0.05])\n",
    "cs82_syserr=np.array([0.06,0.06,0.06])\n",
    "kids_syserr=np.array([0.03,0.03,0.03])\n",
    "sdss_syserr=np.array([0.06,0.06,0.06])\n",
    "\n",
    "for i in range(0,3):\n",
    "    m=des_syserr[i]+cfht_syserr[i]+hsc_syserr[i]+cs82_syserr[i]+kids_syserr[i]+sdss_syserr[i]\n",
    "    m=m/6.0\n",
    "    print(m)"
   ]
  },
  {
   "cell_type": "code",
   "execution_count": 4,
   "metadata": {},
   "outputs": [
    {
     "name": "stdout",
     "output_type": "stream",
     "text": [
      "0.055999999999999994\n",
      "0.055999999999999994\n",
      "0.055999999999999994\n"
     ]
    }
   ],
   "source": [
    "# C1\n",
    "des_syserr=np.array([0.02,0.02,0.02])\n",
    "cfht_syserr=np.array([0.11,0.11,0.11])\n",
    "hsc_syserr=np.array([0.05,0.05,0.05])\n",
    "cs82_syserr=np.array([0.06,0.06,0.06])\n",
    "kids_syserr=np.array([0.04,0.04,0.04])\n",
    "\n",
    "for i in range(0,3):\n",
    "    m=des_syserr[i]+cfht_syserr[i]+hsc_syserr[i]+cs82_syserr[i]+kids_syserr[i]\n",
    "    m=m/5.0\n",
    "    print(m)"
   ]
  },
  {
   "cell_type": "code",
   "execution_count": 5,
   "metadata": {},
   "outputs": [
    {
     "name": "stdout",
     "output_type": "stream",
     "text": [
      "0.0425\n",
      "0.0425\n",
      "0.0425\n"
     ]
    }
   ],
   "source": [
    "# C1 no CFHTLENS\n",
    "des_syserr=np.array([0.02,0.02,0.02])\n",
    "cfht_syserr=np.array([0.11,0.11,0.11])\n",
    "hsc_syserr=np.array([0.05,0.05,0.05])\n",
    "cs82_syserr=np.array([0.06,0.06,0.06])\n",
    "kids_syserr=np.array([0.04,0.04,0.04])\n",
    "\n",
    "for i in range(0,3):\n",
    "    m=des_syserr[i]+hsc_syserr[i]+cs82_syserr[i]+kids_syserr[i]\n",
    "    m=m/4.0\n",
    "    print(m)"
   ]
  },
  {
   "cell_type": "code",
   "execution_count": 6,
   "metadata": {},
   "outputs": [
    {
     "name": "stdout",
     "output_type": "stream",
     "text": [
      "0.057999999999999996\n",
      "0.057999999999999996\n",
      "0.057999999999999996\n"
     ]
    }
   ],
   "source": [
    "# C2\n",
    "des_syserr=np.array([0.03,0.03,0.03])\n",
    "cfht_syserr=np.array([0.11,0.11,0.11])\n",
    "hsc_syserr=np.array([0.05,0.05,0.05])\n",
    "cs82_syserr=np.array([0.06,0.06,0.06])\n",
    "kids_syserr=np.array([0.04,0.04,0.04])\n",
    "\n",
    "for i in range(0,3):\n",
    "    m=des_syserr[i]+cfht_syserr[i]+hsc_syserr[i]+cs82_syserr[i]+kids_syserr[i]\n",
    "    m=m/5.0\n",
    "    print(m)"
   ]
  },
  {
   "cell_type": "code",
   "execution_count": 7,
   "metadata": {},
   "outputs": [
    {
     "name": "stdout",
     "output_type": "stream",
     "text": [
      "0.045000000000000005\n",
      "0.045000000000000005\n",
      "0.045000000000000005\n"
     ]
    }
   ],
   "source": [
    "# C2\n",
    "# No CFHTLenS\n",
    "des_syserr=np.array([0.03,0.03,0.03])\n",
    "cfht_syserr=np.array([0.11,0.11,0.11])\n",
    "hsc_syserr=np.array([0.05,0.05,0.05])\n",
    "cs82_syserr=np.array([0.06,0.06,0.06])\n",
    "kids_syserr=np.array([0.04,0.04,0.04])\n",
    "\n",
    "for i in range(0,3):\n",
    "    m=des_syserr[i]+hsc_syserr[i]+cs82_syserr[i]+kids_syserr[i]\n",
    "    m=m/4.0\n",
    "    print(m)"
   ]
  },
  {
   "cell_type": "code",
   "execution_count": 8,
   "metadata": {},
   "outputs": [],
   "source": [
    "# Wtot files are used as the baseline\n",
    "\n",
    "# Amplitude files are in this order\n",
    "# row 1: small R, row2: large R, row3: all R\n",
    "\n",
    "# Amplitude arrays\n",
    "amparray_wtot=[]\n",
    "amparray_wtot.append(\"LOWZ_0.15_0.31_amplitudes_wtot.txt\")\n",
    "amparray_wtot.append(\"LOWZ_0.31_0.43_amplitudes_wtot.txt\")\n",
    "amparray_wtot.append(\"CMASS_0.43_0.54_amplitudes_wtot.txt\")\n",
    "amparray_wtot.append(\"CMASS_0.54_0.7_amplitudes_wtot.txt\")\n",
    "\n",
    "amparray_errs_wtot=[]\n",
    "amparray_errs_wtot.append(\"LOWZ_0.15_0.31_amplitudes_errs_wtot.txt\")\n",
    "amparray_errs_wtot.append(\"LOWZ_0.31_0.43_amplitudes_errs_wtot.txt\")\n",
    "amparray_errs_wtot.append(\"CMASS_0.43_0.54_amplitudes_errs_wtot.txt\")\n",
    "amparray_errs_wtot.append(\"CMASS_0.54_0.7_amplitudes_errs_wtot.txt\")\n",
    "\n",
    "amparray_now=[]\n",
    "amparray_now.append(\"LOWZ_0.15_0.31_amplitudes_now.txt\")\n",
    "amparray_now.append(\"LOWZ_0.31_0.43_amplitudes_now.txt\")\n",
    "amparray_now.append(\"CMASS_0.43_0.54_amplitudes_now.txt\")\n",
    "amparray_now.append(\"CMASS_0.54_0.7_amplitudes_now.txt\")\n",
    "\n",
    "amparray_errs_now=[]\n",
    "amparray_errs_now.append(\"LOWZ_0.15_0.31_amplitudes_errs_now.txt\")\n",
    "amparray_errs_now.append(\"LOWZ_0.31_0.43_amplitudes_errs_now.txt\")\n",
    "amparray_errs_now.append(\"CMASS_0.43_0.54_amplitudes_errs_now.txt\")\n",
    "amparray_errs_now.append(\"CMASS_0.54_0.7_amplitudes_errs_now.txt\")\n",
    "\n",
    "# Internal Nstar test with HSC\n",
    "amparray_hscnstar=[]\n",
    "amparray_hscnstar.append(\"HSC_CMASS_0.54_0.70_nstartests_amplitudes.txt\")\n",
    "\n",
    "amparray_errs_hscnstar=[]\n",
    "amparray_errs_hscnstar.append(\"HSC_CMASS_0.54_0.70_nstartests_amplitudes_errs.txt\")"
   ]
  },
  {
   "cell_type": "code",
   "execution_count": 9,
   "metadata": {},
   "outputs": [],
   "source": [
    "# Provide data and errors, and sigma_sys, return reduced chi2-1 with weighed mean\n",
    "# Data and errors passed as globals\n",
    "def computechi2minus1(sigs):\n",
    "    \n",
    "    global data2\n",
    "    global errs2\n",
    "    \n",
    "    n=len(data2)\n",
    "    \n",
    "    # inverse variance mean\n",
    "    w = np.zeros(n)\n",
    "    for i in range(0, n):\n",
    "        w[i]=1.0/(errs2[i]**2)\n",
    "    \n",
    "    wmean = np.average(data2, weights=w)\n",
    "    \n",
    "    #Compute reduced chi2\n",
    "    chi2=0.0\n",
    "\n",
    "    for i in range(0, n):\n",
    "        chi2+=((data2[i]-wmean)**2)/(errs2[i]**2+sigs**2)\n",
    "    \n",
    "    rchi2 = chi2/(n-1)\n",
    "\n",
    "    # Reduced chi2 -1\n",
    "    return rchi2-1"
   ]
  },
  {
   "cell_type": "code",
   "execution_count": null,
   "metadata": {},
   "outputs": [],
   "source": []
  },
  {
   "cell_type": "markdown",
   "metadata": {},
   "source": [
    "# ----- L1 --------"
   ]
  },
  {
   "cell_type": "code",
   "execution_count": 10,
   "metadata": {},
   "outputs": [],
   "source": [
    "# lensbin=0=L1, lensbin=1=L2 lensbin=2=L3 lensbin=3=L4\n",
    "\n",
    "lensbin=0\n",
    "ntest=5000\n",
    "\n",
    "sigest_low = np.zeros(ntest)\n",
    "sigest_high = np.zeros(ntest)\n",
    "sigest_all = np.zeros(ntest)\n",
    "\n",
    "r = lensbin\n",
    "    \n",
    "des_syserr=np.array([0.03,0.02,0.02])\n",
    "cfht_syserr=np.array([0.08,0.08,0.08])\n",
    "hsc_syserr=np.array([0.05,0.05,0.05])\n",
    "cs82_syserr=np.array([0.06,0.06,0.06])\n",
    "kids_syserr=np.array([0.03,0.03,0.03])\n",
    "sdss_syserr=np.array([0.06,0.06,0.06])\n",
    "\n",
    "for k in range(0,ntest):\n",
    "        \n",
    "    for c in range(0,3):   # Each column is a different radial range\n",
    "                 \n",
    "        # Read in the files\n",
    "        allamp = np.loadtxt(amparray_wtot[r])\n",
    "        allamp_errs = np.loadtxt(amparray_errs_wtot[r])         \n",
    "           \n",
    "        # Now draw new amplitudes with this statistical and sys error\n",
    "        #print(allamp)\n",
    "            \n",
    "        # Compute the weighted mean\n",
    "        # inverse variance mean     \n",
    "        data=allamp[c,:] # C determines which radial range\n",
    "        errs=allamp_errs[c,:]\n",
    "        \n",
    "        # this is where the main part of the test is\n",
    "        # Expect an amplitude of 0\n",
    "        # for each survey draw an amplitude with mean of 1 and\n",
    "        # including statistical and systematic error\n",
    "        # Note that not all sys errors mean exactly the same thing though\n",
    "        \n",
    "        # Now add statistical and systematic error to data vecor\n",
    "        # Statistical is drawn each time anew for each radial bin\n",
    "        # systematic is an offset that is the same in all bins\n",
    "        \n",
    "        # DES, CFHT, HSC,CS82,KiDS,SDSS \n",
    "        data[0] = 0 + np.random.normal(0,errs[0],1)[0]+ np.random.normal(0,des_syserr[c],1)[0]\n",
    "        data[1] = 0 + np.random.normal(0,errs[1],1)[0]+ np.random.normal(0,cfht_syserr[c],1)[0]\n",
    "        data[2] = 0 + np.random.normal(0,errs[2],1)[0]+ np.random.normal(0,hsc_syserr[c],1)[0]\n",
    "        data[3] = 0 + np.random.normal(0,errs[3],1)[0]+ np.random.normal(0,cs82_syserr[c],1)[0]\n",
    "        data[4] = 0 + np.random.normal(0,errs[4],1)[0]+ np.random.normal(0,kids_syserr[c],1)[0]\n",
    "\n",
    "        if(r<=2):\n",
    "            data[5] = 0 + np.random.normal(0,errs[0],1)[0]+ np.random.normal(0,sdss_syserr[c],1)[0]\n",
    "\n",
    "        wht = 1.0/(allamp_errs[c,:]**2)\n",
    "        meanamp = np.average(data, weights=wht) # inverse variance mean\n",
    "        wmean = np.average(data, weights=wht) # inverse variance mean\n",
    "            \n",
    "        n=len(data)\n",
    "        data2 = np.zeros(n)\n",
    "        errs2 = np.zeros(n) \n",
    "        \n",
    "        #Compute reduced chi2\n",
    "        chi2=0.0\n",
    "\n",
    "        for i in range(0, n):\n",
    "            chi2+=((data[i]-wmean)**2)/(errs[i]**2)\n",
    "    \n",
    "        rchi2 = chi2/(n-1)\n",
    "        #print(\"Reduced chi2: \", rchi2)\n",
    "    \n",
    "        # This is the Sigma SYS part\n",
    "        # Sigmasys is value that sets chi=1\n",
    "    \n",
    "        # If reduces chi2 >1 then proceed \n",
    "        if (rchi2>1):\n",
    "        \n",
    "            # Find the value that makes rchi2=1\n",
    "            # Set global variables\n",
    "            for i in range(0, n):\n",
    "                data2[i]=data[i]\n",
    "                errs2[i]=errs[i]\n",
    "                \n",
    "            #print(data2)\n",
    "            #print(errs2)\n",
    "\n",
    "            sol=optimize.root_scalar(computechi2minus1, bracket=[0,2.0])\n",
    "            sigmasys=sol.root  \n",
    "            \n",
    "            if(c==0):\n",
    "                sigest_low[k]=sigmasys  \n",
    "            if(c==1):\n",
    "                sigest_high[k]=sigmasys \n",
    "            if(c==2):\n",
    "                sigest_all[k]=sigmasys \n",
    "            \n",
    "        # this is a kludge\n",
    "        # because we only get an upper limit in this case\n",
    "        # this is why the paper says \"estimate\" for this number\n",
    "        #if (rchi2<1):\n",
    "        # do nothing. Tested and didn't have huge impact.\n",
    "                            "
   ]
  },
  {
   "cell_type": "code",
   "execution_count": 11,
   "metadata": {},
   "outputs": [
    {
     "name": "stdout",
     "output_type": "stream",
     "text": [
      "Mean sys err 0.051666666666666666\n",
      "0.051458807061953736 0.05203023160532693 0.051666666666666666\n"
     ]
    },
    {
     "data": {
      "image/png": "[encoded data removed]",
      "text/plain": [
       "<Figure size 600x400 with 1 Axes>"
      ]
     },
     "metadata": {
      "image/png": {
       "height": 346,
       "width": 527
      }
     },
     "output_type": "display_data"
    }
   ],
   "source": [
    "c=0\n",
    "meansyserr = (des_syserr[c]+cfht_syserr[c]+hsc_syserr[c]+cs82_syserr[c]+kids_syserr[c]+sdss_syserr[c])/6.0\n",
    "print('Mean sys err',meansyserr)\n",
    "\n",
    "if(c==0):\n",
    "     sigest=sigest_low \n",
    "if(c==1):\n",
    "    sigest=sigest_high\n",
    "if(c==2):\n",
    "    sigest= sigest_all\n",
    "\n",
    "y=1000\n",
    "plt.hist(sigest,bins=20,range=[0,0.30])\n",
    "#plt.plot([sigsys,sigsys],[0,y])\n",
    "plt.plot([np.mean(sigest),np.mean(sigest)],[0,y])\n",
    "plt.plot([np.median(sigest),np.median(sigest)],[0,y])\n",
    "plt.plot([meansyserr,meansyserr],[0,y])\n",
    "          \n",
    "print(np.mean(sigest),np.median(sigest),meansyserr)"
   ]
  },
  {
   "cell_type": "code",
   "execution_count": 12,
   "metadata": {},
   "outputs": [
    {
     "name": "stdout",
     "output_type": "stream",
     "text": [
      "Mean sys err 0.05000000000000001\n",
      "0.05879092016156089 0.05893370803141518 0.05000000000000001\n"
     ]
    },
    {
     "data": {
      "image/png": "[encoded data removed]",
      "text/plain": [
       "<Figure size 600x400 with 1 Axes>"
      ]
     },
     "metadata": {
      "image/png": {
       "height": 346,
       "width": 527
      }
     },
     "output_type": "display_data"
    }
   ],
   "source": [
    "c=1\n",
    "meansyserr = (des_syserr[c]+cfht_syserr[c]+hsc_syserr[c]+cs82_syserr[c]+kids_syserr[c]+sdss_syserr[c])/6.0\n",
    "print('Mean sys err',meansyserr)\n",
    "\n",
    "if(c==0):\n",
    "     sigest=sigest_low \n",
    "if(c==1):\n",
    "    sigest=sigest_high\n",
    "if(c==2):\n",
    "    sigest= sigest_all\n",
    "\n",
    "y=1000\n",
    "plt.hist(sigest,bins=20,range=[0,0.30])\n",
    "#plt.plot([sigsys,sigsys],[0,y])\n",
    "plt.plot([np.mean(sigest),np.mean(sigest)],[0,y])\n",
    "plt.plot([np.median(sigest),np.median(sigest)],[0,y])\n",
    "plt.plot([meansyserr,meansyserr],[0,y])\n",
    "          \n",
    "print(np.mean(sigest),np.median(sigest),meansyserr)"
   ]
  },
  {
   "cell_type": "code",
   "execution_count": 13,
   "metadata": {},
   "outputs": [
    {
     "name": "stdout",
     "output_type": "stream",
     "text": [
      "Mean sys err 0.05000000000000001\n",
      "0.0515308609725412 0.052081191481869 0.05000000000000001\n"
     ]
    },
    {
     "data": {
      "image/png": "[encoded data removed]",
      "text/plain": [
       "<Figure size 600x400 with 1 Axes>"
      ]
     },
     "metadata": {
      "image/png": {
       "height": 346,
       "width": 527
      }
     },
     "output_type": "display_data"
    }
   ],
   "source": [
    "c=2\n",
    "meansyserr = (des_syserr[c]+cfht_syserr[c]+hsc_syserr[c]+cs82_syserr[c]+kids_syserr[c]+sdss_syserr[c])/6.0\n",
    "print('Mean sys err',meansyserr)\n",
    "\n",
    "if(c==0):\n",
    "     sigest=sigest_low \n",
    "if(c==1):\n",
    "    sigest=sigest_high\n",
    "if(c==2):\n",
    "    sigest= sigest_all\n",
    "\n",
    "y=1000\n",
    "plt.hist(sigest,bins=20,range=[0,0.30])\n",
    "#plt.plot([sigsys,sigsys],[0,y])\n",
    "plt.plot([np.mean(sigest),np.mean(sigest)],[0,y])\n",
    "plt.plot([np.median(sigest),np.median(sigest)],[0,y])\n",
    "plt.plot([meansyserr,meansyserr],[0,y])\n",
    "          \n",
    "print(np.mean(sigest),np.median(sigest),meansyserr)"
   ]
  },
  {
   "cell_type": "markdown",
   "metadata": {},
   "source": [
    "# ------ L2 -------"
   ]
  },
  {
   "cell_type": "code",
   "execution_count": 14,
   "metadata": {},
   "outputs": [],
   "source": [
    "lensbin=1\n",
    "ntest=5000\n",
    "\n",
    "sigest_low = np.zeros(ntest)\n",
    "sigest_high = np.zeros(ntest)\n",
    "sigest_all = np.zeros(ntest)\n",
    "\n",
    "r = lensbin\n",
    "    \n",
    "des_syserr=np.array([0.03,0.02,0.02])\n",
    "cfht_syserr=np.array([0.08,0.08,0.08])\n",
    "hsc_syserr=np.array([0.05,0.05,0.05])\n",
    "cs82_syserr=np.array([0.06,0.06,0.06])\n",
    "kids_syserr=np.array([0.03,0.03,0.03])\n",
    "sdss_syserr=np.array([0.06,0.06,0.06])\n",
    "\n",
    "for k in range(0,ntest):\n",
    "        \n",
    "    for c in range(0,3):   # Each column is a different radial range\n",
    "                 \n",
    "        # Read in the files\n",
    "        allamp = np.loadtxt(amparray_wtot[r])\n",
    "        allamp_errs = np.loadtxt(amparray_errs_wtot[r])         \n",
    "           \n",
    "        # Now draw new amplitudes with this statistical and sys error\n",
    "        #print(allamp)\n",
    "            \n",
    "        # Compute the weighted mean\n",
    "        # inverse variance mean     \n",
    "        data=allamp[c,:] # C determines which radial range\n",
    "        errs=allamp_errs[c,:]\n",
    "        \n",
    "        # this is where the main part of the test is\n",
    "        # Expect an amplitude of 0\n",
    "        # for each survey draw an amplitude with mean of 1 and\n",
    "        # including statistical and systematic error\n",
    "        # Note that not all sys errors mean exactly the same thing though\n",
    "        \n",
    "        # Now add statistical and systematic error to data vecor\n",
    "        # Statistical is drawn each time anew for each radial bin\n",
    "        # systematic is an offset that is the same in all bins\n",
    "        \n",
    "        # DES, CFHT, HSC,CS82,KiDS,SDSS \n",
    "        data[0] = 0 + np.random.normal(0,errs[0],1)[0]+ np.random.normal(0,des_syserr[c],1)[0]\n",
    "        data[1] = 0 + np.random.normal(0,errs[1],1)[0]+ np.random.normal(0,cfht_syserr[c],1)[0]\n",
    "        data[2] = 0 + np.random.normal(0,errs[2],1)[0]+ np.random.normal(0,hsc_syserr[c],1)[0]\n",
    "        data[3] = 0 + np.random.normal(0,errs[3],1)[0]+ np.random.normal(0,cs82_syserr[c],1)[0]\n",
    "        data[4] = 0 + np.random.normal(0,errs[4],1)[0]+ np.random.normal(0,kids_syserr[c],1)[0]\n",
    "\n",
    "        if(r<=2):\n",
    "            data[5] = 0 + np.random.normal(0,errs[0],1)[0]+ np.random.normal(0,sdss_syserr[c],1)[0]\n",
    "\n",
    "        wht = 1.0/(allamp_errs[c,:]**2)\n",
    "        meanamp = np.average(data, weights=wht) # inverse variance mean\n",
    "        wmean = np.average(data, weights=wht) # inverse variance mean\n",
    "            \n",
    "        n=len(data)\n",
    "        data2 = np.zeros(n)\n",
    "        errs2 = np.zeros(n) \n",
    "        \n",
    "        #Compute reduced chi2\n",
    "        chi2=0.0\n",
    "\n",
    "        for i in range(0, n):\n",
    "            chi2+=((data[i]-wmean)**2)/(errs[i]**2)\n",
    "    \n",
    "        rchi2 = chi2/(n-1)\n",
    "        #print(\"Reduced chi2: \", rchi2)\n",
    "    \n",
    "        # This is the Sigma SYS part\n",
    "        # Sigmasys is value that sets chi=1\n",
    "    \n",
    "        # If reduces chi2 >1 then proceed \n",
    "        if (rchi2>1):\n",
    "        \n",
    "            # Find the value that makes rchi2=1\n",
    "            # Set global variables\n",
    "            for i in range(0, n):\n",
    "                data2[i]=data[i]\n",
    "                errs2[i]=errs[i]\n",
    "                \n",
    "            #print(data2)\n",
    "            #print(errs2)\n",
    "\n",
    "            sol=optimize.root_scalar(computechi2minus1, bracket=[0,2.0])\n",
    "            sigmasys=sol.root  \n",
    "            \n",
    "            if(c==0):\n",
    "                sigest_low[k]=sigmasys  \n",
    "            if(c==1):\n",
    "                sigest_high[k]=sigmasys \n",
    "            if(c==2):\n",
    "                sigest_all[k]=sigmasys \n",
    "            \n",
    "        # this is a kludge\n",
    "        # because we only get an upper limit in this case\n",
    "        # this is why the paper says \"estimate\" for this number\n",
    "        #if (rchi2<1):\n",
    "        # do nothing. Tested and didn't have huge impact.\n",
    "                            "
   ]
  },
  {
   "cell_type": "code",
   "execution_count": 15,
   "metadata": {},
   "outputs": [
    {
     "name": "stdout",
     "output_type": "stream",
     "text": [
      "Mean sys err 0.051666666666666666\n",
      "0.05149480279033926 0.05224484242871297 0.051666666666666666\n"
     ]
    },
    {
     "data": {
      "image/png": "[encoded data removed]",
      "text/plain": [
       "<Figure size 600x400 with 1 Axes>"
      ]
     },
     "metadata": {
      "image/png": {
       "height": 346,
       "width": 527
      }
     },
     "output_type": "display_data"
    }
   ],
   "source": [
    "c=0\n",
    "meansyserr = (des_syserr[c]+cfht_syserr[c]+hsc_syserr[c]+cs82_syserr[c]+kids_syserr[c]+sdss_syserr[c])/6.0\n",
    "print('Mean sys err',meansyserr)\n",
    "\n",
    "if(c==0):\n",
    "     sigest=sigest_low \n",
    "if(c==1):\n",
    "    sigest=sigest_high\n",
    "if(c==2):\n",
    "    sigest= sigest_all\n",
    "\n",
    "y=1000\n",
    "plt.hist(sigest,bins=20,range=[0,0.30])\n",
    "#plt.plot([sigsys,sigsys],[0,y])\n",
    "plt.plot([np.mean(sigest),np.mean(sigest)],[0,y])\n",
    "plt.plot([np.median(sigest),np.median(sigest)],[0,y])\n",
    "plt.plot([meansyserr,meansyserr],[0,y])\n",
    "          \n",
    "print(np.mean(sigest),np.median(sigest),meansyserr)"
   ]
  },
  {
   "cell_type": "code",
   "execution_count": 16,
   "metadata": {},
   "outputs": [
    {
     "name": "stdout",
     "output_type": "stream",
     "text": [
      "Mean sys err 0.05000000000000001\n",
      "0.05408861798013994 0.05389361672992202 0.05000000000000001\n"
     ]
    },
    {
     "data": {
      "image/png": "[encoded data removed]",
      "text/plain": [
       "<Figure size 600x400 with 1 Axes>"
      ]
     },
     "metadata": {
      "image/png": {
       "height": 346,
       "width": 527
      }
     },
     "output_type": "display_data"
    }
   ],
   "source": [
    "c=1\n",
    "meansyserr = (des_syserr[c]+cfht_syserr[c]+hsc_syserr[c]+cs82_syserr[c]+kids_syserr[c]+sdss_syserr[c])/6.0\n",
    "print('Mean sys err',meansyserr)\n",
    "\n",
    "if(c==0):\n",
    "     sigest=sigest_low \n",
    "if(c==1):\n",
    "    sigest=sigest_high\n",
    "if(c==2):\n",
    "    sigest= sigest_all\n",
    "\n",
    "y=1000\n",
    "plt.hist(sigest,bins=20,range=[0,0.30])\n",
    "#plt.plot([sigsys,sigsys],[0,y])\n",
    "plt.plot([np.mean(sigest),np.mean(sigest)],[0,y])\n",
    "plt.plot([np.median(sigest),np.median(sigest)],[0,y])\n",
    "plt.plot([meansyserr,meansyserr],[0,y])\n",
    "          \n",
    "print(np.mean(sigest),np.median(sigest),meansyserr)"
   ]
  },
  {
   "cell_type": "code",
   "execution_count": 17,
   "metadata": {},
   "outputs": [
    {
     "name": "stdout",
     "output_type": "stream",
     "text": [
      "Mean sys err 0.05000000000000001\n",
      "0.049887479071506514 0.050801939769261756 0.05000000000000001\n"
     ]
    },
    {
     "data": {
      "image/png": "[encoded data removed]",
      "text/plain": [
       "<Figure size 600x400 with 1 Axes>"
      ]
     },
     "metadata": {
      "image/png": {
       "height": 346,
       "width": 527
      }
     },
     "output_type": "display_data"
    }
   ],
   "source": [
    "c=2\n",
    "meansyserr = (des_syserr[c]+cfht_syserr[c]+hsc_syserr[c]+cs82_syserr[c]+kids_syserr[c]+sdss_syserr[c])/6.0\n",
    "print('Mean sys err',meansyserr)\n",
    "\n",
    "if(c==0):\n",
    "     sigest=sigest_low \n",
    "if(c==1):\n",
    "    sigest=sigest_high\n",
    "if(c==2):\n",
    "    sigest= sigest_all\n",
    "\n",
    "y=1000\n",
    "plt.hist(sigest,bins=20,range=[0,0.30])\n",
    "#plt.plot([sigsys,sigsys],[0,y])\n",
    "plt.plot([np.mean(sigest),np.mean(sigest)],[0,y])\n",
    "plt.plot([np.median(sigest),np.median(sigest)],[0,y])\n",
    "plt.plot([meansyserr,meansyserr],[0,y])\n",
    "          \n",
    "print(np.mean(sigest),np.median(sigest),meansyserr)"
   ]
  },
  {
   "cell_type": "code",
   "execution_count": null,
   "metadata": {},
   "outputs": [],
   "source": []
  },
  {
   "cell_type": "markdown",
   "metadata": {},
   "source": [
    "# -------- C1 ---------"
   ]
  },
  {
   "cell_type": "code",
   "execution_count": 18,
   "metadata": {},
   "outputs": [
    {
     "ename": "IndexError",
     "evalue": "index 5 is out of bounds for axis 0 with size 5",
     "output_type": "error",
     "traceback": [
      "\u001b[0;31m---------------------------------------------------------------------------\u001b[0m",
      "\u001b[0;31mIndexError\u001b[0m                                Traceback (most recent call last)",
      "\u001b[0;32m<ipython-input-18-caadca12193c>\u001b[0m in \u001b[0;36m<module>\u001b[0;34m\u001b[0m\n\u001b[1;32m     48\u001b[0m \u001b[0;34m\u001b[0m\u001b[0m\n\u001b[1;32m     49\u001b[0m         \u001b[0;32mif\u001b[0m\u001b[0;34m(\u001b[0m\u001b[0mr\u001b[0m\u001b[0;34m<=\u001b[0m\u001b[0;36m2\u001b[0m\u001b[0;34m)\u001b[0m\u001b[0;34m:\u001b[0m\u001b[0;34m\u001b[0m\u001b[0;34m\u001b[0m\u001b[0m\n\u001b[0;32m---> 50\u001b[0;31m             \u001b[0mdata\u001b[0m\u001b[0;34m[\u001b[0m\u001b[0;36m5\u001b[0m\u001b[0;34m]\u001b[0m \u001b[0;34m=\u001b[0m \u001b[0;36m0\u001b[0m \u001b[0;34m+\u001b[0m \u001b[0mnp\u001b[0m\u001b[0;34m.\u001b[0m\u001b[0mrandom\u001b[0m\u001b[0;34m.\u001b[0m\u001b[0mnormal\u001b[0m\u001b[0;34m(\u001b[0m\u001b[0;36m0\u001b[0m\u001b[0;34m,\u001b[0m\u001b[0merrs\u001b[0m\u001b[0;34m[\u001b[0m\u001b[0;36m0\u001b[0m\u001b[0;34m]\u001b[0m\u001b[0;34m,\u001b[0m\u001b[0;36m1\u001b[0m\u001b[0;34m)\u001b[0m\u001b[0;34m[\u001b[0m\u001b[0;36m0\u001b[0m\u001b[0;34m]\u001b[0m\u001b[0;34m+\u001b[0m \u001b[0mnp\u001b[0m\u001b[0;34m.\u001b[0m\u001b[0mrandom\u001b[0m\u001b[0;34m.\u001b[0m\u001b[0mnormal\u001b[0m\u001b[0;34m(\u001b[0m\u001b[0;36m0\u001b[0m\u001b[0;34m,\u001b[0m\u001b[0msdss_syserr\u001b[0m\u001b[0;34m[\u001b[0m\u001b[0mc\u001b[0m\u001b[0;34m]\u001b[0m\u001b[0;34m,\u001b[0m\u001b[0;36m1\u001b[0m\u001b[0;34m)\u001b[0m\u001b[0;34m[\u001b[0m\u001b[0;36m0\u001b[0m\u001b[0;34m]\u001b[0m\u001b[0;34m\u001b[0m\u001b[0;34m\u001b[0m\u001b[0m\n\u001b[0m\u001b[1;32m     51\u001b[0m \u001b[0;34m\u001b[0m\u001b[0m\n\u001b[1;32m     52\u001b[0m         \u001b[0mwht\u001b[0m \u001b[0;34m=\u001b[0m \u001b[0;36m1.0\u001b[0m\u001b[0;34m/\u001b[0m\u001b[0;34m(\u001b[0m\u001b[0mallamp_errs\u001b[0m\u001b[0;34m[\u001b[0m\u001b[0mc\u001b[0m\u001b[0;34m,\u001b[0m\u001b[0;34m:\u001b[0m\u001b[0;34m]\u001b[0m\u001b[0;34m**\u001b[0m\u001b[0;36m2\u001b[0m\u001b[0;34m)\u001b[0m\u001b[0;34m\u001b[0m\u001b[0;34m\u001b[0m\u001b[0m\n",
      "\u001b[0;31mIndexError\u001b[0m: index 5 is out of bounds for axis 0 with size 5"
     ]
    }
   ],
   "source": [
    "des_syserr=np.array([0.02,0.02,0.02])\n",
    "cfht_syserr=np.array([0.11,0.11,0.11])\n",
    "hsc_syserr=np.array([0.05,0.05,0.05])\n",
    "cs82_syserr=np.array([0.06,0.06,0.06])\n",
    "kids_syserr=np.array([0.04,0.04,0.04])\n",
    "\n",
    "lensbin=2\n",
    "ntest=5000\n",
    "\n",
    "sigest_low = np.zeros(ntest)\n",
    "sigest_high = np.zeros(ntest)\n",
    "sigest_all = np.zeros(ntest)\n",
    "\n",
    "r = lensbin\n",
    "\n",
    "for k in range(0,ntest):\n",
    "        \n",
    "    for c in range(0,3):   # Each column is a different radial range\n",
    "                 \n",
    "        # Read in the files\n",
    "        allamp = np.loadtxt(amparray_wtot[r])\n",
    "        allamp_errs = np.loadtxt(amparray_errs_wtot[r])         \n",
    "           \n",
    "        # Now draw new amplitudes with this statistical and sys error\n",
    "        #print(allamp)\n",
    "            \n",
    "        # Compute the weighted mean\n",
    "        # inverse variance mean     \n",
    "        data=allamp[c,:] # C determines which radial range\n",
    "        errs=allamp_errs[c,:]\n",
    "        \n",
    "        # this is where the main part of the test is\n",
    "        # Expect an amplitude of 0\n",
    "        # for each survey draw an amplitude with mean of 1 and\n",
    "        # including statistical and systematic error\n",
    "        # Note that not all sys errors mean exactly the same thing though\n",
    "        \n",
    "        # Now add statistical and systematic error to data vecor\n",
    "        # Statistical is drawn each time anew for each radial bin\n",
    "        # systematic is an offset that is the same in all bins\n",
    "        \n",
    "        # DES, CFHT, HSC,CS82,KiDS,SDSS \n",
    "        data[0] = 0 + np.random.normal(0,errs[0],1)[0]+ np.random.normal(0,des_syserr[c],1)[0]\n",
    "        data[1] = 0 + np.random.normal(0,errs[1],1)[0]+ np.random.normal(0,cfht_syserr[c],1)[0]\n",
    "        data[2] = 0 + np.random.normal(0,errs[2],1)[0]+ np.random.normal(0,hsc_syserr[c],1)[0]\n",
    "        data[3] = 0 + np.random.normal(0,errs[3],1)[0]+ np.random.normal(0,cs82_syserr[c],1)[0]\n",
    "        data[4] = 0 + np.random.normal(0,errs[4],1)[0]+ np.random.normal(0,kids_syserr[c],1)[0]\n",
    "\n",
    "        if(r<=2):\n",
    "            data[5] = 0 + np.random.normal(0,errs[0],1)[0]+ np.random.normal(0,sdss_syserr[c],1)[0]\n",
    "\n",
    "        wht = 1.0/(allamp_errs[c,:]**2)\n",
    "        meanamp = np.average(data, weights=wht) # inverse variance mean\n",
    "        wmean = np.average(data, weights=wht) # inverse variance mean\n",
    "            \n",
    "        n=len(data)\n",
    "        data2 = np.zeros(n)\n",
    "        errs2 = np.zeros(n) \n",
    "        \n",
    "        #Compute reduced chi2\n",
    "        chi2=0.0\n",
    "\n",
    "        for i in range(0, n):\n",
    "            chi2+=((data[i]-wmean)**2)/(errs[i]**2)\n",
    "    \n",
    "        rchi2 = chi2/(n-1)\n",
    "        #print(\"Reduced chi2: \", rchi2)\n",
    "    \n",
    "        # This is the Sigma SYS part\n",
    "        # Sigmasys is value that sets chi=1\n",
    "    \n",
    "        # If reduces chi2 >1 then proceed \n",
    "        if (rchi2>1):\n",
    "        \n",
    "            # Find the value that makes rchi2=1\n",
    "            # Set global variables\n",
    "            for i in range(0, n):\n",
    "                data2[i]=data[i]\n",
    "                errs2[i]=errs[i]\n",
    "                \n",
    "            #print(data2)\n",
    "            #print(errs2)\n",
    "\n",
    "            sol=optimize.root_scalar(computechi2minus1, bracket=[0,2.0])\n",
    "            sigmasys=sol.root  \n",
    "            \n",
    "            if(c==0):\n",
    "                sigest_low[k]=sigmasys  \n",
    "            if(c==1):\n",
    "                sigest_high[k]=sigmasys \n",
    "            if(c==2):\n",
    "                sigest_all[k]=sigmasys \n",
    "            \n",
    "        # this is a kludge\n",
    "        # because we only get an upper limit in this case\n",
    "        # this is why the paper says \"estimate\" for this number\n",
    "        #if (rchi2<1):\n",
    "        # do nothing. Tested and didn't have huge impact.\n",
    "                            \n"
   ]
  },
  {
   "cell_type": "code",
   "execution_count": null,
   "metadata": {},
   "outputs": [],
   "source": [
    "c=0\n",
    "meansyserr = (des_syserr[c]+cfht_syserr[c]+hsc_syserr[c]+cs82_syserr[c]+kids_syserr[c]+sdss_syserr[c])/6.0\n",
    "print('Mean sys err',meansyserr)\n",
    "\n",
    "if(c==0):\n",
    "     sigest=sigest_low \n",
    "if(c==1):\n",
    "    sigest=sigest_high\n",
    "if(c==2):\n",
    "    sigest= sigest_all\n",
    "\n",
    "y=1000\n",
    "plt.hist(sigest,bins=20,range=[0,0.30])\n",
    "#plt.plot([sigsys,sigsys],[0,y])\n",
    "plt.plot([np.mean(sigest),np.mean(sigest)],[0,y])\n",
    "plt.plot([np.median(sigest),np.median(sigest)],[0,y])\n",
    "plt.plot([meansyserr,meansyserr],[0,y])\n",
    "          \n",
    "print(np.mean(sigest),np.median(sigest),meansyserr)"
   ]
  },
  {
   "cell_type": "code",
   "execution_count": null,
   "metadata": {},
   "outputs": [],
   "source": [
    "c=1\n",
    "meansyserr = (des_syserr[c]+cfht_syserr[c]+hsc_syserr[c]+cs82_syserr[c]+kids_syserr[c]+sdss_syserr[c])/6.0\n",
    "print('Mean sys err',meansyserr)\n",
    "\n",
    "if(c==0):\n",
    "     sigest=sigest_low \n",
    "if(c==1):\n",
    "    sigest=sigest_high\n",
    "if(c==2):\n",
    "    sigest= sigest_all\n",
    "\n",
    "y=1000\n",
    "plt.hist(sigest,bins=20,range=[0,0.30])\n",
    "#plt.plot([sigsys,sigsys],[0,y])\n",
    "plt.plot([np.mean(sigest),np.mean(sigest)],[0,y])\n",
    "plt.plot([np.median(sigest),np.median(sigest)],[0,y])\n",
    "plt.plot([meansyserr,meansyserr],[0,y])\n",
    "          \n",
    "print(np.mean(sigest),np.median(sigest),meansyserr)"
   ]
  },
  {
   "cell_type": "code",
   "execution_count": null,
   "metadata": {},
   "outputs": [],
   "source": [
    "c=2\n",
    "meansyserr = (des_syserr[c]+cfht_syserr[c]+hsc_syserr[c]+cs82_syserr[c]+kids_syserr[c]+sdss_syserr[c])/6.0\n",
    "print('Mean sys err',meansyserr)\n",
    "\n",
    "if(c==0):\n",
    "     sigest=sigest_low \n",
    "if(c==1):\n",
    "    sigest=sigest_high\n",
    "if(c==2):\n",
    "    sigest= sigest_all\n",
    "\n",
    "y=1000\n",
    "plt.hist(sigest,bins=20,range=[0,0.30])\n",
    "#plt.plot([sigsys,sigsys],[0,y])\n",
    "plt.plot([np.mean(sigest),np.mean(sigest)],[0,y])\n",
    "plt.plot([np.median(sigest),np.median(sigest)],[0,y])\n",
    "plt.plot([meansyserr,meansyserr],[0,y])\n",
    "          \n",
    "print(np.mean(sigest),np.median(sigest),meansyserr)"
   ]
  },
  {
   "cell_type": "markdown",
   "metadata": {},
   "source": [
    "# --------- C2 ---------"
   ]
  },
  {
   "cell_type": "code",
   "execution_count": null,
   "metadata": {},
   "outputs": [],
   "source": [
    "lensbin=3\n",
    "ntest=5000\n",
    "\n",
    "des_syserr=np.array([0.03,0.03,0.03])\n",
    "cfht_syserr=np.array([0.11,0.11,0.11])\n",
    "hsc_syserr=np.array([0.05,0.05,0.05])\n",
    "cs82_syserr=np.array([0.06,0.06,0.06])\n",
    "kids_syserr=np.array([0.04,0.04,0.04])\n",
    "        \n",
    "sigest_low = np.zeros(ntest)\n",
    "sigest_high = np.zeros(ntest)\n",
    "sigest_all = np.zeros(ntest)\n",
    "\n",
    "r = lensbin\n",
    "\n",
    "for k in range(0,ntest):\n",
    "        \n",
    "    for c in range(0,3):   # Each column is a different radial range\n",
    "                 \n",
    "        # Read in the files\n",
    "        allamp = np.loadtxt(amparray_wtot[r])\n",
    "        allamp_errs = np.loadtxt(amparray_errs_wtot[r])         \n",
    "           \n",
    "        # Now draw new amplitudes with this statistical and sys error\n",
    "        #print(allamp)\n",
    "            \n",
    "        # Compute the weighted mean\n",
    "        # inverse variance mean     \n",
    "        data=allamp[c,:] # C determines which radial range\n",
    "        errs=allamp_errs[c,:]\n",
    "        \n",
    "        # this is where the main part of the test is\n",
    "        # Expect an amplitude of 0\n",
    "        # for each survey draw an amplitude with mean of 1 and\n",
    "        # including statistical and systematic error\n",
    "        # Note that not all sys errors mean exactly the same thing though\n",
    "        \n",
    "        # Now add statistical and systematic error to data vecor\n",
    "        # Statistical is drawn each time anew for each radial bin\n",
    "        # systematic is an offset that is the same in all bins\n",
    "        \n",
    "        # DES, CFHT, HSC,CS82,KiDS,SDSS \n",
    "        data[0] = 0 + np.random.normal(0,errs[0],1)[0]+ np.random.normal(0,des_syserr[c],1)[0]\n",
    "        data[1] = 0 + np.random.normal(0,errs[1],1)[0]+ np.random.normal(0,cfht_syserr[c],1)[0]\n",
    "        data[2] = 0 + np.random.normal(0,errs[2],1)[0]+ np.random.normal(0,hsc_syserr[c],1)[0]\n",
    "        data[3] = 0 + np.random.normal(0,errs[3],1)[0]+ np.random.normal(0,cs82_syserr[c],1)[0]\n",
    "        data[4] = 0 + np.random.normal(0,errs[4],1)[0]+ np.random.normal(0,kids_syserr[c],1)[0]\n",
    "\n",
    "        if(r<=2):\n",
    "            data[5] = 0 + np.random.normal(0,errs[0],1)[0]+ np.random.normal(0,sdss_syserr[c],1)[0]\n",
    "\n",
    "        wht = 1.0/(allamp_errs[c,:]**2)\n",
    "        meanamp = np.average(data, weights=wht) # inverse variance mean\n",
    "        wmean = np.average(data, weights=wht) # inverse variance mean\n",
    "            \n",
    "        n=len(data)\n",
    "        data2 = np.zeros(n)\n",
    "        errs2 = np.zeros(n) \n",
    "        \n",
    "        #Compute reduced chi2\n",
    "        chi2=0.0\n",
    "\n",
    "        for i in range(0, n):\n",
    "            chi2+=((data[i]-wmean)**2)/(errs[i]**2)\n",
    "    \n",
    "        rchi2 = chi2/(n-1)\n",
    "        #print(\"Reduced chi2: \", rchi2)\n",
    "    \n",
    "        # This is the Sigma SYS part\n",
    "        # Sigmasys is value that sets chi=1\n",
    "    \n",
    "        # If reduces chi2 >1 then proceed \n",
    "        if (rchi2>1):\n",
    "        \n",
    "            # Find the value that makes rchi2=1\n",
    "            # Set global variables\n",
    "            for i in range(0, n):\n",
    "                data2[i]=data[i]\n",
    "                errs2[i]=errs[i]\n",
    "                \n",
    "            #print(data2)\n",
    "            #print(errs2)\n",
    "\n",
    "            sol=optimize.root_scalar(computechi2minus1, bracket=[0,2.0])\n",
    "            sigmasys=sol.root  \n",
    "            \n",
    "            if(c==0):\n",
    "                sigest_low[k]=sigmasys  \n",
    "            if(c==1):\n",
    "                sigest_high[k]=sigmasys \n",
    "            if(c==2):\n",
    "                sigest_all[k]=sigmasys \n",
    "            \n",
    "        # this is a kludge\n",
    "        # because we only get an upper limit in this case\n",
    "        # this is why the paper says \"estimate\" for this number\n",
    "        #if (rchi2<1):\n",
    "        # do nothing. Tested and didn't have huge impact.\n",
    "                            \n",
    "\n"
   ]
  },
  {
   "cell_type": "code",
   "execution_count": null,
   "metadata": {},
   "outputs": [],
   "source": [
    "c=0\n",
    "meansyserr = (des_syserr[c]+cfht_syserr[c]+hsc_syserr[c]+cs82_syserr[c]+kids_syserr[c]+sdss_syserr[c])/6.0\n",
    "print('Mean sys err',meansyserr)\n",
    "\n",
    "if(c==0):\n",
    "     sigest=sigest_low \n",
    "if(c==1):\n",
    "    sigest=sigest_high\n",
    "if(c==2):\n",
    "    sigest= sigest_all\n",
    "\n",
    "y=1000\n",
    "plt.hist(sigest,bins=20,range=[0,0.30])\n",
    "#plt.plot([sigsys,sigsys],[0,y])\n",
    "plt.plot([np.mean(sigest),np.mean(sigest)],[0,y])\n",
    "plt.plot([np.median(sigest),np.median(sigest)],[0,y])\n",
    "plt.plot([meansyserr,meansyserr],[0,y])\n",
    "          \n",
    "print(np.mean(sigest),np.median(sigest),meansyserr)"
   ]
  },
  {
   "cell_type": "code",
   "execution_count": null,
   "metadata": {},
   "outputs": [],
   "source": [
    "c=1\n",
    "meansyserr = (des_syserr[c]+cfht_syserr[c]+hsc_syserr[c]+cs82_syserr[c]+kids_syserr[c]+sdss_syserr[c])/6.0\n",
    "print('Mean sys err',meansyserr)\n",
    "\n",
    "if(c==0):\n",
    "     sigest=sigest_low \n",
    "if(c==1):\n",
    "    sigest=sigest_high\n",
    "if(c==2):\n",
    "    sigest= sigest_all\n",
    "\n",
    "y=1000\n",
    "plt.hist(sigest,bins=20,range=[0,0.30])\n",
    "#plt.plot([sigsys,sigsys],[0,y])\n",
    "plt.plot([np.mean(sigest),np.mean(sigest)],[0,y])\n",
    "plt.plot([np.median(sigest),np.median(sigest)],[0,y])\n",
    "plt.plot([meansyserr,meansyserr],[0,y])\n",
    "          \n",
    "print(np.mean(sigest),np.median(sigest),meansyserr)"
   ]
  },
  {
   "cell_type": "code",
   "execution_count": null,
   "metadata": {},
   "outputs": [],
   "source": [
    "c=2\n",
    "meansyserr = (des_syserr[c]+cfht_syserr[c]+hsc_syserr[c]+cs82_syserr[c]+kids_syserr[c]+sdss_syserr[c])/6.0\n",
    "print('Mean sys err',meansyserr)\n",
    "\n",
    "if(c==0):\n",
    "     sigest=sigest_low \n",
    "if(c==1):\n",
    "    sigest=sigest_high\n",
    "if(c==2):\n",
    "    sigest= sigest_all\n",
    "\n",
    "y=1000\n",
    "plt.hist(sigest,bins=20,range=[0,0.30])\n",
    "#plt.plot([sigsys,sigsys],[0,y])\n",
    "plt.plot([np.mean(sigest),np.mean(sigest)],[0,y])\n",
    "plt.plot([np.median(sigest),np.median(sigest)],[0,y])\n",
    "plt.plot([meansyserr,meansyserr],[0,y])\n",
    "          \n",
    "print(np.mean(sigest),np.median(sigest),meansyserr)"
   ]
  },
  {
   "cell_type": "code",
   "execution_count": null,
   "metadata": {},
   "outputs": [],
   "source": []
  }
 ],
 "metadata": {
  "kernelspec": {
   "display_name": "Python 3",
   "language": "python",
   "name": "python3"
  },
  "language_info": {
   "codemirror_mode": {
    "name": "ipython",
    "version": 3
   },
   "file_extension": ".py",
   "mimetype": "text/x-python",
   "name": "python",
   "nbconvert_exporter": "python",
   "pygments_lexer": "ipython3",
   "version": "3.8.5"
  }
 },
 "nbformat": 4,
 "nbformat_minor": 4
}
