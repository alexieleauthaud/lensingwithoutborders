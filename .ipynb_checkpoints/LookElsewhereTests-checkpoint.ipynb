{
 "cells": [
  {
   "cell_type": "markdown",
   "metadata": {},
   "source": [
    "# Tests related to look elsewhere effect"
   ]
  },
  {
   "cell_type": "code",
   "execution_count": null,
   "metadata": {},
   "outputs": [],
   "source": [
    "# Baseline weight type\n",
    "weight_type = \"_wtot\""
   ]
  },
  {
   "cell_type": "code",
   "execution_count": null,
   "metadata": {},
   "outputs": [],
   "source": [
    "import matplotlib.pyplot as plt\n",
    "from   matplotlib.pyplot import *\n",
    "import numpy as np\n",
    "from scipy import optimize\n",
    "\n",
    "plt.rc('text', usetex=True)\n",
    "plt.rc('font', family='serif')"
   ]
  },
  {
   "cell_type": "code",
   "execution_count": null,
   "metadata": {},
   "outputs": [],
   "source": [
    "# Wtot files are used as the baseline\n",
    "\n",
    "# Amplitude files are in this order\n",
    "# row 1: small R, row2: large R, row3: all R\n",
    "\n",
    "# These are the medians in the paper table\n",
    "# DES, CFHT, HSC,CS82,KiDS,SDSS \n",
    "zsource = [0.59,0.7,0.8,0.57,0.67,0.39] \n",
    "\n",
    "# Amplitude arrays\n",
    "amparray_wtot=[]\n",
    "amparray_wtot.append(\"LOWZ_0.15_0.31_amplitudes_wtot.txt\")\n",
    "amparray_wtot.append(\"LOWZ_0.31_0.43_amplitudes_wtot.txt\")\n",
    "amparray_wtot.append(\"CMASS_0.43_0.54_amplitudes_wtot.txt\")\n",
    "amparray_wtot.append(\"CMASS_0.54_0.7_amplitudes_wtot.txt\")\n",
    "\n",
    "amparray_errs_wtot=[]\n",
    "amparray_errs_wtot.append(\"LOWZ_0.15_0.31_amplitudes_errs_wtot.txt\")\n",
    "amparray_errs_wtot.append(\"LOWZ_0.31_0.43_amplitudes_errs_wtot.txt\")\n",
    "amparray_errs_wtot.append(\"CMASS_0.43_0.54_amplitudes_errs_wtot.txt\")\n",
    "amparray_errs_wtot.append(\"CMASS_0.54_0.7_amplitudes_errs_wtot.txt\")\n",
    "\n",
    "amparray_now=[]\n",
    "amparray_now.append(\"LOWZ_0.15_0.31_amplitudes_now.txt\")\n",
    "amparray_now.append(\"LOWZ_0.31_0.43_amplitudes_now.txt\")\n",
    "amparray_now.append(\"CMASS_0.43_0.54_amplitudes_now.txt\")\n",
    "amparray_now.append(\"CMASS_0.54_0.7_amplitudes_now.txt\")\n",
    "\n",
    "amparray_errs_now=[]\n",
    "amparray_errs_now.append(\"LOWZ_0.15_0.31_amplitudes_errs_now.txt\")\n",
    "amparray_errs_now.append(\"LOWZ_0.31_0.43_amplitudes_errs_now.txt\")\n",
    "amparray_errs_now.append(\"CMASS_0.43_0.54_amplitudes_errs_now.txt\")\n",
    "amparray_errs_now.append(\"CMASS_0.54_0.7_amplitudes_errs_now.txt\")\n"
   ]
  },
  {
   "cell_type": "code",
   "execution_count": null,
   "metadata": {},
   "outputs": [],
   "source": [
    "# function to fit\n",
    "def linfunc(x, a, b):\n",
    "    return a*x + b"
   ]
  },
  {
   "cell_type": "markdown",
   "metadata": {},
   "source": [
    "# Z source"
   ]
  },
  {
   "cell_type": "code",
   "execution_count": null,
   "metadata": {},
   "outputs": [],
   "source": [
    "# Use sys plus stat errors for random draw but stat only in trend fitting "
   ]
  },
  {
   "cell_type": "code",
   "execution_count": 14,
   "metadata": {},
   "outputs": [
    {
     "name": "stdout",
     "output_type": "stream",
     "text": [
      "low R 15.0 0.015\n",
      "all R 0.0 0.0\n",
      "low R 15.0 0.015\n",
      "all R 0.0 0.0\n"
     ]
    }
   ],
   "source": [
    "ntest=1000\n",
    "\n",
    "n3sigma_lowr  = np.zeros(ntest)\n",
    "n3sigma_highr = np.zeros(ntest)\n",
    "n3sigma_allr  = np.zeros(ntest)\n",
    "\n",
    "n3sigma_lowr_tot = 0.0\n",
    "n3sigma_highr_tot = 0.0\n",
    "n3sigma_allr_tot = 0.0\n",
    "\n",
    "# CMASS and LOWZ\n",
    "for i in range(0,ntest):   # Run the test many many times\n",
    "    \n",
    "    count_lowr=0\n",
    "    count_highr=0\n",
    "    count_allr=0\n",
    "\n",
    "    for r in range(0,4):       # One row is one data sample    \n",
    "        #Reported sys err array\n",
    "        # L1\n",
    "        if(r==0):\n",
    "            des_syserr=np.array([0.03,0.02,0.02])\n",
    "            cfht_syserr=np.array([0.08,0.08,0.08])\n",
    "            hsc_syserr=np.array([0.05,0.05,0.05])\n",
    "            cs82_syserr=np.array([0.06,0.06,0.06])\n",
    "            kids_syserr=np.array([0.03,0.03,0.03])\n",
    "            sdss_syserr=np.array([0.06,0.06,0.06])\n",
    "\n",
    "        # L2\n",
    "        if(r==1):\n",
    "            des_syserr=np.array([0.03,0.02,0.02])\n",
    "            cfht_syserr=np.array([0.08,0.08,0.08])\n",
    "            hsc_syserr=np.array([0.05,0.05,0.05])\n",
    "            cs82_syserr=np.array([0.06,0.06,0.06])\n",
    "            kids_syserr=np.array([0.03,0.03,0.03])\n",
    "            sdss_syserr=np.array([0.06,0.06,0.06])\n",
    "\n",
    "        # C1\n",
    "        if(r==2):\n",
    "            des_syserr=np.array([0.02,0.02,0.02])\n",
    "            cfht_syserr=np.array([0.11,0.11,0.11])\n",
    "            hsc_syserr=np.array([0.05,0.05,0.05])\n",
    "            cs82_syserr=np.array([0.06,0.06,0.06])\n",
    "            kids_syserr=np.array([0.04,0.04,0.04])\n",
    "\n",
    "        # C2\n",
    "        if(r==3):\n",
    "            des_syserr=np.array([0.03,0.03,0.03])\n",
    "            cfht_syserr=np.array([0.11,0.11,0.11])\n",
    "            hsc_syserr=np.array([0.05,0.05,0.05])\n",
    "            cs82_syserr=np.array([0.06,0.06,0.06])\n",
    "            kids_syserr=np.array([0.04,0.04,0.04])\n",
    "            \n",
    "        for c in range(0,3):   # Each colums is a different radial range\n",
    "\n",
    "            allamp = np.loadtxt(amparray_wtot[r])\n",
    "            allamp_errs = np.loadtxt(amparray_errs_wtot[r])\n",
    "        \n",
    "            # Draw a new amplitude value\n",
    "            # with mean zero and with err using statistical err on amplitude        \n",
    "            data=allamp[c,:] # C determines which radial range\n",
    "            errs=allamp_errs[c,:]\n",
    "            errs_tot=allamp_errs[c,:]\n",
    "            \n",
    "             # ---- Add syst errors here\n",
    "            errs_tot[0]=np.sqrt(errs[0]**2 + des_syserr[c]**2)\n",
    "            errs_tot[1]=np.sqrt(errs[1]**2 + cfht_syserr[c]**2)\n",
    "            errs_tot[2]=np.sqrt(errs[2]**2 + hsc_syserr[c]**2)\n",
    "            errs_tot[3]=np.sqrt(errs[3]**2 + cs82_syserr[c]**2)\n",
    "            errs_tot[4]=np.sqrt(errs[4]**2 + kids_syserr[c]**2)\n",
    "            if(r < 2):\n",
    "                errs_tot[5]=np.sqrt(errs[5]**2 + sdss_syserr[c]**2)\n",
    "                \n",
    "            n=len(data)\n",
    "        \n",
    "            for k in range(0,n):\n",
    "                # draw new amplitude value\n",
    "                # Use errors_tot here !!!\n",
    "                temp = np.random.normal(0,errs_tot[k],1)[0]\n",
    "                data[k]=temp               \n",
    "\n",
    "            # Now do the fitting and find beta\n",
    "            # No SDSS for CMASS\n",
    "            if(r > 1):\n",
    "                popt, pcov = optimize.curve_fit(linfunc, zsource[:5] , data, sigma=errs,absolute_sigma=True)\n",
    "                perr = np.sqrt(np.diag(pcov))       \n",
    "            else:\n",
    "                popt, pcov = optimize.curve_fit(linfunc, zsource , data, sigma=errs,absolute_sigma=True)\n",
    "                perr = np.sqrt(np.diag(pcov))       \n",
    "            \n",
    "            beta= np.round(popt[0], 4)\n",
    "            betaerr=np.round(perr[0], 4)\n",
    "            betasig = np.abs(beta/betaerr)\n",
    "            \n",
    "            if (c == 0 and betasig>=3):\n",
    "                count_lowr=count_lowr+1\n",
    "            if (c == 1 and betasig>=3):\n",
    "                count_highr=count_highr+1\n",
    "            if (c == 2 and betasig>=3):\n",
    "                count_allr=count_allr+1\n",
    "                \n",
    "    if(count_lowr >=1):\n",
    "        n3sigma_lowr_tot = n3sigma_lowr_tot+1\n",
    "    if(count_allr >=2):\n",
    "        n3sigma_allr_tot = n3sigma_allr_tot+1   \n",
    "\n",
    "    n3sigma_lowr_tot\n",
    "    n3sigma_lowr[i]=count_lowr\n",
    "    n3sigma_highr[i]=count_highr\n",
    "    n3sigma_allr[i]=count_allr\n",
    "    \n",
    "print(\"low R\", n3sigma_lowr_tot, n3sigma_lowr_tot/ntest)\n",
    "print(\"all R\", n3sigma_allr_tot, n3sigma_allr_tot/ntest)"
   ]
  },
  {
   "cell_type": "code",
   "execution_count": null,
   "metadata": {},
   "outputs": [],
   "source": []
  },
  {
   "cell_type": "code",
   "execution_count": null,
   "metadata": {},
   "outputs": [],
   "source": [
    "\n"
   ]
  },
  {
   "cell_type": "code",
   "execution_count": null,
   "metadata": {},
   "outputs": [],
   "source": []
  }
 ],
 "metadata": {
  "kernelspec": {
   "display_name": "Python 3",
   "language": "python",
   "name": "python3"
  },
  "language_info": {
   "codemirror_mode": {
    "name": "ipython",
    "version": 3
   },
   "file_extension": ".py",
   "mimetype": "text/x-python",
   "name": "python",
   "nbconvert_exporter": "python",
   "pygments_lexer": "ipython3",
   "version": "3.8.5"
  }
 },
 "nbformat": 4,
 "nbformat_minor": 2
}
